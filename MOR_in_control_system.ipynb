{
  "nbformat": 4,
  "nbformat_minor": 0,
  "metadata": {
    "colab": {
      "provenance": [],
      "include_colab_link": true
    },
    "kernelspec": {
      "name": "python3",
      "display_name": "Python 3"
    },
    "language_info": {
      "name": "python"
    }
  },
  "cells": [
    {
      "cell_type": "markdown",
      "metadata": {
        "id": "view-in-github",
        "colab_type": "text"
      },
      "source": [
        "<a href=\"https://colab.research.google.com/github/pc-Jiang/MOR_in_control_system/blob/main/MOR_in_control_system.ipynb\" target=\"_parent\"><img src=\"https://colab.research.google.com/assets/colab-badge.svg\" alt=\"Open In Colab\"/></a>"
      ]
    },
    {
      "cell_type": "markdown",
      "source": [
        "## Topic: Model Order Reduction in Control System\n",
        "Team members:\n",
        "- Pengcen Jiang (PID: A59020457)\n",
        "- Yi Gu (PID: A59019647)\n",
        "- Shibo Hao (PID: A59017927)"
      ],
      "metadata": {
        "id": "JneoW7WR63Hn"
      }
    },
    {
      "cell_type": "code",
      "execution_count": 54,
      "metadata": {
        "id": "HUpuRJQa6pFB"
      },
      "outputs": [],
      "source": [
        "import torch\n",
        "import time\n",
        "\n",
        "import numpy as np\n",
        "import numpy.random as nrd\n",
        "import numpy.linalg as nla\n",
        "import matplotlib.pyplot as plt\n",
        "from scipy.stats import wishart\n",
        "from copy import deepcopy"
      ]
    },
    {
      "cell_type": "markdown",
      "source": [
        "### Define a linear system and generate data"
      ],
      "metadata": {
        "id": "-2PgLZ8s84Lf"
      }
    },
    {
      "cell_type": "code",
      "source": [
        "# define the linear system\n",
        "class Linear_Dynamic_System:\n",
        "    '''\n",
        "    dim_x: int, dimension of inate state of the system\n",
        "    dim_u: int, dimension of input\n",
        "    dim_y: int, dimension of observation (output)\n",
        "    sys_param: dict, parameters of the dynamic matrices and noises' variance\n",
        "      x_t = Ax_{t-1} + Bu_t + epsilon\n",
        "      y_t = Cx_t + eta\n",
        "      sys_param['A'] - matrix on x_{t-1}\n",
        "      sys_param['B'] - matrix on u_t\n",
        "      sys_param['C'] - matrix on x_t\n",
        "      sys_param['Q'] - variance of noise epsilon (Gaussian white noise)\n",
        "      sys_param['R'] - variance of noise eta (Gaussian white noise)\n",
        "    '''\n",
        "    def __init__(self, dim_x, dim_u, dim_y, sys_param={}):\n",
        "        self.dim_x = dim_x\n",
        "        self.dim_u = dim_u\n",
        "        self.dim_y = dim_y\n",
        "        self.sys = self.init_coef(sys_param)\n",
        "    \n",
        "    def init_coef(self, sys):\n",
        "        if not ('R' in sys):\n",
        "            sys['R'] = wishart.rvs(20, np.eye(self.dim_y, dtype='float32')) / 10\n",
        "        if not ('Q' in sys):\n",
        "            sys['Q'] = wishart.rvs(200, 0.5 * np.eye(self.dim_x, dtype='float32'))\n",
        "        if not ('A' in sys):\n",
        "            A0 = wishart.rvs(200, 2 * np.eye(self.dim_x, dtype='float32'))\n",
        "            [_, eig_vec] = nla.eig(A0)\n",
        "            eig_val = np.diag(nrd.random(self.dim_x))\n",
        "            # set eigenvalues no larger than 1 so that it would not blow up\n",
        "            eig_val = eig_val.astype(np.float32)\n",
        "            sys['A'] = eig_vec @ eig_val @ np.transpose(eig_vec)\n",
        "        if not ('B' in sys): \n",
        "            sys['B'] = nrd.rand(self.dim_x, self.dim_u)\n",
        "        if not ('C' in sys):\n",
        "            sys['C'] = nrd.rand(self.dim_y, self.dim_x)\n",
        "            sys['C'] = sys['C'].astype(np.float32)\n",
        "\n",
        "        for k, v in sys.items():\n",
        "            sys[k] = np.array(v, dtype='float32')\n",
        "        return sys\n",
        "    \n",
        "    \n",
        "    def gen(self, x0, u, length):\n",
        "        '''\n",
        "        Input: \n",
        "          x0 - initial state of the system, shape (dim_x, 1)\n",
        "          u - stimulus of the system, shape (dim_u, length)\n",
        "          length - time steps to simulate\n",
        "        Output:\n",
        "          x - inate state, shape (dim_x, length)\n",
        "          y - observation of the system, shape (dim_y, length) \n",
        "        '''\n",
        "        xt = x0\n",
        "        for i in range(length):\n",
        "            epsilon = nrd.multivariate_normal(np.zeros(self.dim_x), self.sys['Q'])\n",
        "            epsilon = epsilon.reshape(self.dim_x, -1)\n",
        "            if self.dim_y == 1:\n",
        "                eta = nrd.randn(1) * self.sys['R']\n",
        "            else:    \n",
        "                eta = nrd.multivariate_normal(np.zeros(self.dim_y), self.sys['R'])\n",
        "            eta = eta.reshape(self.dim_y, -1)\n",
        "            ut = u[:, i].reshape(self.dim_u, -1)\n",
        "            xt = self.sys['A'] @ xt + self.sys['B'] @ ut + epsilon\n",
        "            yt = self.sys['C'] @ xt + eta\n",
        "            if i == 0:\n",
        "                x = xt\n",
        "                y = yt\n",
        "            else: \n",
        "                x = np.concatenate([x, xt], axis=1)\n",
        "                y = np.concatenate([y, yt], axis=1)\n",
        "        return x, y"
      ],
      "metadata": {
        "id": "vDgYM8y_7x_O"
      },
      "execution_count": 45,
      "outputs": []
    },
    {
      "cell_type": "code",
      "source": [
        "# define the dimension of the system\n",
        "dim_x = 50 # dimension of inate state\n",
        "dim_y = 1 # dimension of output\n",
        "dim_u = 5 # dimention of input\n",
        "time_steps = 200 # time steps to be generated\n",
        "dim_x_reduct = 5 # dimension after MOR\n",
        "original_sys = Linear_Dynamic_System(dim_x, dim_u, dim_y) # define a system\n",
        "\n",
        "# randomly generalize the input u and x0\n",
        "u = nrd.rand(dim_u, time_steps)\n",
        "x0 = nrd.rand(dim_x, 1)\n",
        "\n",
        "# generate data\n",
        "x, y = original_sys.gen(x0, u, time_steps)"
      ],
      "metadata": {
        "id": "OIiftQV0BzEl"
      },
      "execution_count": 52,
      "outputs": []
    },
    {
      "cell_type": "markdown",
      "source": [
        "#### Proper orthogonal decomposition (POD)"
      ],
      "metadata": {
        "id": "U_yQL8ZeCpzF"
      }
    },
    {
      "cell_type": "markdown",
      "source": [
        "#### Balanced Truncated (BR) Method"
      ],
      "metadata": {
        "id": "vFTr8kVq9NdW"
      }
    },
    {
      "cell_type": "code",
      "source": [
        "# get the parameters of the original system\n",
        "sys_params = original_sys.sys\n",
        "\n",
        "# get the controllability and observability matrices\n",
        "C_matrix = sys_params['B']\n",
        "O_matrix = sys_params['C']\n",
        "Ct = C_matrix\n",
        "Ot = O_matrix\n",
        "for i in range(1, dim_x):\n",
        "    Ct = sys_params['A'] @ Ct\n",
        "    Ot = Ot @ sys_params['A']\n",
        "    C_matrix = np.concatenate([C_matrix, Ct], axis=1) # controllability matrix\n",
        "    O_matrix = np.concatenate([O_matrix, Ot], axis=0) # observability matrix\n",
        "\n",
        "# controllability Gramian\n",
        "Wc = C_matrix @ C_matrix.conjugate().transpose()\n",
        "# observability Gramian\n",
        "Wo = O_matrix.conjugate().transpose() @ O_matrix\n",
        "\n",
        "# compute the truncated matrix by eigenvalue decomposition\n",
        "def get_truncated_matrix_from_gramians(Wc, Wo):\n",
        "    W = Wc @ Wo\n",
        "    [_, Tu] = np.linalg.eig(W)\n",
        "    sigma_c = np.linalg.inv(Tu) @ Wc @ np.linalg.inv(Tu).conjugate().transpose()\n",
        "    sigma_o = Tu.conjugate().transpose() @ Wo @ Tu\n",
        "    c_trans = np.diagonal(sigma_c)**(1/4)\n",
        "    o_trans = np.diagonal(sigma_o)**(-1/4)\n",
        "    sigma_s = np.diag(c_trans) @ np.diag(o_trans)\n",
        "    T = Tu @ sigma_s\n",
        "    return T\n",
        "    \n",
        "T = get_truncated_matrix_from_gramians(Wc, Wo)"
      ],
      "metadata": {
        "id": "JZmItGLgA0MX"
      },
      "execution_count": 50,
      "outputs": []
    },
    {
      "cell_type": "code",
      "source": [
        "# truncate the eigenvectors\n",
        "phi = T[:, :dim_x_reduct]\n",
        "psi = T.transpose()[:dim_x_reduct, :]\n",
        "\n",
        "# set parameters of new system\n",
        "sysp_br = deepcopy(sys_params)\n",
        "sysp_br['A'] = psi @ sys_params['A'] @ phi\n",
        "sysp_br['B'] = psi @ sys_params['B']\n",
        "sysp_br['C'] = sys_params['C'] @ phi\n",
        "\n",
        "# use the reduced order model to generate data\n",
        "br_sys = Linear_Dynamic_System(dim_x_reduct, dim_u, dim_y, sysp_br)\n",
        "x0_br = T.transpose() @ x0\n",
        "x0_br = x0_br[:dim_x_reduct]\n",
        "x_br, y_br = original_sys.gen(x0, u, time_steps)"
      ],
      "metadata": {
        "colab": {
          "base_uri": "https://localhost:8080/"
        },
        "id": "mWyWhHP48JIJ",
        "outputId": "98ae7047-1a22-40bf-81e7-6b66691f65f0"
      },
      "execution_count": 55,
      "outputs": [
        {
          "output_type": "stream",
          "name": "stderr",
          "text": [
            "<ipython-input-45-f3c97c62026b>:42: ComplexWarning: Casting complex values to real discards the imaginary part\n",
            "  sys[k] = np.array(v, dtype='float32')\n"
          ]
        }
      ]
    },
    {
      "cell_type": "markdown",
      "source": [
        "#### Autoencoder"
      ],
      "metadata": {
        "id": "sx1C4_56Cr3m"
      }
    }
  ]
}